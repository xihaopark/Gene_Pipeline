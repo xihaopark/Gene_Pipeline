{
 "cells": [
  {
   "cell_type": "code",
   "execution_count": 13,
   "id": "6f02ee47",
   "metadata": {},
   "outputs": [],
   "source": [
    "import os\n",
    "import pandas as pd\n",
    "from tqdm import tqdm\n",
    "from itertools import combinations\n",
    "from IPython.display import display\n",
    "\n",
    "def read_csv_to_dict(csv_file):\n",
    "    df = pd.read_csv(csv_file)\n",
    "    return df.set_index('Locus Tag').T.to_dict('dict')\n",
    "\n",
    "def find_best_match(query_seq, db_seqs):\n",
    "    best_match = None\n",
    "    best_score = 0\n",
    "    best_details = {}\n",
    "    for tag, details in db_seqs.items():\n",
    "        db_seq = details['NT Seq']\n",
    "        match_score = sum(1 for a, b in zip(query_seq, db_seq) if a == b)\n",
    "        min_length = min(len(query_seq), len(db_seq))\n",
    "        normalized_score = match_score / min_length\n",
    "        if normalized_score > best_score:\n",
    "            best_score = normalized_score\n",
    "            best_match = tag\n",
    "            best_details = details\n",
    "    return best_match, best_score, best_details\n",
    "\n",
    "def map_sequences(query_csv, db_csv):\n",
    "    query_seqs = read_csv_to_dict(query_csv)\n",
    "    db_seqs = read_csv_to_dict(db_csv)\n",
    "    \n",
    "    mappings = []\n",
    "    for query_tag, query_details in tqdm(query_seqs.items(), desc=f\"Mapping {os.path.basename(query_csv)} → {os.path.basename(db_csv)}\"):\n",
    "        query_seq = query_details['NT Seq']\n",
    "        best_match, normalized_score, best_match_details = find_best_match(query_seq, db_seqs)\n",
    "        mappings.append({\n",
    "            'Query Locus Tag': query_tag,\n",
    "            'Query Gene': query_details.get('Gene', 'N/A'),\n",
    "            'Query EC Number': query_details.get('EC Number', 'N/A'),\n",
    "            'Best Match Locus Tag': best_match,\n",
    "            'Best Match Gene': best_match_details.get('Gene', 'N/A'),\n",
    "            'Best Match EC Number': best_match_details.get('EC Number', 'N/A'),\n",
    "            'Match Score': round(normalized_score, 3)\n",
    "        })\n",
    "    return pd.DataFrame(mappings)\n",
    "\n",
    "def map_all_pairs_in_folder(folder_path, output_folder):\n",
    "    os.makedirs(output_folder, exist_ok=True)\n",
    "    \n",
    "    csv_files = [os.path.join(folder_path, f) for f in os.listdir(folder_path) if f.endswith('.csv')]\n",
    "    file_pairs = list(combinations(csv_files, 2))  # Only one direction\n",
    "    \n",
    "    for query_file, db_file in file_pairs:\n",
    "        query_name = os.path.splitext(os.path.basename(query_file))[0]\n",
    "        db_name = os.path.splitext(os.path.basename(db_file))[0]\n",
    "        \n",
    "        print(f\"Processing Pair: {query_name} → {db_name}\")\n",
    "        mapped_results = map_sequences(query_file, db_file)\n",
    "        \n",
    "        output_csv = os.path.join(output_folder, f\"{query_name}_to_{db_name}_mapping.csv\")\n",
    "        mapped_results.to_csv(output_csv, index=False)\n",
    "        print(f\"Results saved: {output_csv}\")\n",
    "\n",
    "        # Optional: high score summary\n",
    "        high_score_results = mapped_results[mapped_results['Match Score'] > 0.8]\n",
    "        success_rate = (len(high_score_results) / len(mapped_results)) * 100 if len(mapped_results) > 0 else 0\n",
    "        print(f\"{len(high_score_results)} high-confidence matches (>{0.8}), success rate: {success_rate:.2f}%\")\n",
    "\n",
    "def color_row_based_on_score(val):\n",
    "    try:\n",
    "        score = float(val)\n",
    "    except ValueError:\n",
    "        return ''\n",
    "    color = 'background-color: '\n",
    "    if score > 0.9:\n",
    "        color += 'lightgreen'\n",
    "    elif score > 0.8:\n",
    "        color += 'lightyellow'\n",
    "    else:\n",
    "        color += 'lightcoral'\n",
    "    return color\n",
    "\n",
    "def display_and_save_mapped_results(csv_file, html_output_path):\n",
    "    df = pd.read_csv(csv_file)\n",
    "    df = df.fillna('-')\n",
    "    df['Match Score'] = df['Match Score'].apply(lambda x: f'{float(x):.3f}' if isinstance(x, (float, int, str)) and x != '-' else x)\n",
    "    df_sorted = df.sort_values(by='Match Score', ascending=False, key=lambda col: pd.to_numeric(col, errors='coerce'))\n",
    "    df_sorted.index = range(1, len(df_sorted) + 1)\n",
    "\n",
    "    styled_df = df_sorted.style.applymap(color_row_based_on_score, subset=['Match Score'])\n",
    "    html = styled_df.to_html()\n",
    "\n",
    "    with open(html_output_path, 'w', encoding='utf-8') as f:\n",
    "        f.write(html)\n",
    "    print(f\"Saved HTML: {html_output_path}\")\n",
    "\n",
    "def generate_html_for_all_results(mapping_folder, html_output_folder):\n",
    "    os.makedirs(html_output_folder, exist_ok=True)\n",
    "\n",
    "    csv_files = [f for f in os.listdir(mapping_folder) if f.endswith('.csv')]\n",
    "    for csv_file in csv_files:\n",
    "        csv_path = os.path.join(mapping_folder, csv_file)\n",
    "        html_file = os.path.splitext(csv_file)[0] + '.html'\n",
    "        html_path = os.path.join(html_output_folder, html_file)\n",
    "        display_and_save_mapped_results(csv_path, html_path)\n",
    "\n",
    "def number_of_results(folder_path):\n",
    "    csv_files = [f for f in os.listdir(folder_path) if f.endswith('.csv')]\n",
    "    num_files = len(csv_files)\n",
    "    num_pairs = (num_files * (num_files - 1)) // 2  # combinations(n, 2)\n",
    "    print(f\"{num_files} CSV files found in '{folder_path}'.\")\n",
    "    print(f\"{num_pairs} result files will be generated (one-way mapping for each pair).\")"
   ]
  },
  {
   "cell_type": "code",
   "execution_count": 14,
   "id": "5b60e626",
   "metadata": {},
   "outputs": [
    {
     "name": "stdout",
     "output_type": "stream",
     "text": [
      "6 CSV files found in 'Input'\n",
      "15 result files will be generated (one-way mapping for each pair)\n",
      "Processing Pair: GCA_000932055.2 → GCA_000953275.1\n"
     ]
    },
    {
     "name": "stderr",
     "output_type": "stream",
     "text": [
      "Mapping GCA_000932055.2.csv → GCA_000953275.1.csv: 100%|█| 3913/3913 [02:43<00:0\n",
      "/var/folders/_f/08nngm7j4cgc4y0f0rjqm85m0000gn/T/ipykernel_10953/1123265713.py:9: UserWarning: DataFrame columns are not unique, some columns will be omitted.\n",
      "  return df.set_index('Locus Tag').T.to_dict('dict')\n"
     ]
    },
    {
     "name": "stdout",
     "output_type": "stream",
     "text": [
      "Results saved: Output/GCA_000932055.2_to_GCA_000953275.1_mapping.csv\n",
      "3439 high-confidence matches (>0.8), success rate: 87.89%\n",
      "Processing Pair: GCA_000932055.2 → S0253\n"
     ]
    },
    {
     "name": "stderr",
     "output_type": "stream",
     "text": [
      "Mapping GCA_000932055.2.csv → S0253.csv: 100%|█| 3913/3913 [02:30<00:00, 26.02it\n"
     ]
    },
    {
     "name": "stdout",
     "output_type": "stream",
     "text": [
      "Results saved: Output/GCA_000932055.2_to_S0253_mapping.csv\n",
      "1644 high-confidence matches (>0.8), success rate: 42.01%\n",
      "Processing Pair: GCA_000932055.2 → GCA_000085225.1 \n"
     ]
    },
    {
     "name": "stderr",
     "output_type": "stream",
     "text": [
      "Mapping GCA_000932055.2.csv → GCA_000085225.1 .csv: 100%|█| 3913/3913 [02:33<00:\n"
     ]
    },
    {
     "name": "stdout",
     "output_type": "stream",
     "text": [
      "Results saved: Output/GCA_000932055.2_to_GCA_000085225.1 _mapping.csv\n",
      "2649 high-confidence matches (>0.8), success rate: 67.70%\n",
      "Processing Pair: GCA_000932055.2 → GCA_000027105.1 \n"
     ]
    },
    {
     "name": "stderr",
     "output_type": "stream",
     "text": [
      "Mapping GCA_000932055.2.csv → GCA_000027105.1 .csv: 100%|█| 3913/3913 [02:35<00:\n"
     ]
    },
    {
     "name": "stdout",
     "output_type": "stream",
     "text": [
      "Results saved: Output/GCA_000932055.2_to_GCA_000027105.1 _mapping.csv\n",
      "2668 high-confidence matches (>0.8), success rate: 68.18%\n",
      "Processing Pair: GCA_000932055.2 → GCA_000009205.2\n"
     ]
    },
    {
     "name": "stderr",
     "output_type": "stream",
     "text": [
      "Mapping GCA_000932055.2.csv → GCA_000009205.2.csv: 100%|█| 3913/3913 [02:44<00:0\n",
      "/var/folders/_f/08nngm7j4cgc4y0f0rjqm85m0000gn/T/ipykernel_10953/1123265713.py:9: UserWarning: DataFrame columns are not unique, some columns will be omitted.\n",
      "  return df.set_index('Locus Tag').T.to_dict('dict')\n"
     ]
    },
    {
     "name": "stdout",
     "output_type": "stream",
     "text": [
      "Results saved: Output/GCA_000932055.2_to_GCA_000009205.2_mapping.csv\n",
      "3438 high-confidence matches (>0.8), success rate: 87.86%\n",
      "Processing Pair: GCA_000953275.1 → S0253\n"
     ]
    },
    {
     "name": "stderr",
     "output_type": "stream",
     "text": [
      "Mapping GCA_000953275.1.csv → S0253.csv: 100%|█| 3950/3950 [02:32<00:00, 25.95it\n"
     ]
    },
    {
     "name": "stdout",
     "output_type": "stream",
     "text": [
      "Results saved: Output/GCA_000953275.1_to_S0253_mapping.csv\n",
      "1539 high-confidence matches (>0.8), success rate: 38.96%\n",
      "Processing Pair: GCA_000953275.1 → GCA_000085225.1 \n"
     ]
    },
    {
     "name": "stderr",
     "output_type": "stream",
     "text": [
      "Mapping GCA_000953275.1.csv → GCA_000085225.1 .csv: 100%|█| 3950/3950 [02:35<00:\n"
     ]
    },
    {
     "name": "stdout",
     "output_type": "stream",
     "text": [
      "Results saved: Output/GCA_000953275.1_to_GCA_000085225.1 _mapping.csv\n",
      "2665 high-confidence matches (>0.8), success rate: 67.47%\n",
      "Processing Pair: GCA_000953275.1 → GCA_000027105.1 \n"
     ]
    },
    {
     "name": "stderr",
     "output_type": "stream",
     "text": [
      "Mapping GCA_000953275.1.csv → GCA_000027105.1 .csv: 100%|█| 3950/3950 [02:37<00:\n"
     ]
    },
    {
     "name": "stdout",
     "output_type": "stream",
     "text": [
      "Results saved: Output/GCA_000953275.1_to_GCA_000027105.1 _mapping.csv\n",
      "2684 high-confidence matches (>0.8), success rate: 67.95%\n",
      "Processing Pair: GCA_000953275.1 → GCA_000009205.2\n"
     ]
    },
    {
     "name": "stderr",
     "output_type": "stream",
     "text": [
      "Mapping GCA_000953275.1.csv → GCA_000009205.2.csv: 100%|█| 3950/3950 [17:58<00:0\n",
      "/var/folders/_f/08nngm7j4cgc4y0f0rjqm85m0000gn/T/ipykernel_10953/1123265713.py:9: UserWarning: DataFrame columns are not unique, some columns will be omitted.\n",
      "  return df.set_index('Locus Tag').T.to_dict('dict')\n"
     ]
    },
    {
     "name": "stdout",
     "output_type": "stream",
     "text": [
      "Results saved: Output/GCA_000953275.1_to_GCA_000009205.2_mapping.csv\n",
      "3946 high-confidence matches (>0.8), success rate: 99.90%\n",
      "Processing Pair: S0253 → GCA_000085225.1 \n"
     ]
    },
    {
     "name": "stderr",
     "output_type": "stream",
     "text": [
      "Mapping S0253.csv → GCA_000085225.1 .csv: 100%|█| 3715/3715 [02:22<00:00, 26.01i\n",
      "/var/folders/_f/08nngm7j4cgc4y0f0rjqm85m0000gn/T/ipykernel_10953/1123265713.py:9: UserWarning: DataFrame columns are not unique, some columns will be omitted.\n",
      "  return df.set_index('Locus Tag').T.to_dict('dict')\n"
     ]
    },
    {
     "name": "stdout",
     "output_type": "stream",
     "text": [
      "Results saved: Output/S0253_to_GCA_000085225.1 _mapping.csv\n",
      "1367 high-confidence matches (>0.8), success rate: 36.80%\n",
      "Processing Pair: S0253 → GCA_000027105.1 \n"
     ]
    },
    {
     "name": "stderr",
     "output_type": "stream",
     "text": [
      "Mapping S0253.csv → GCA_000027105.1 .csv: 100%|█| 3715/3715 [02:24<00:00, 25.64i\n",
      "/var/folders/_f/08nngm7j4cgc4y0f0rjqm85m0000gn/T/ipykernel_10953/1123265713.py:9: UserWarning: DataFrame columns are not unique, some columns will be omitted.\n",
      "  return df.set_index('Locus Tag').T.to_dict('dict')\n"
     ]
    },
    {
     "name": "stdout",
     "output_type": "stream",
     "text": [
      "Results saved: Output/S0253_to_GCA_000027105.1 _mapping.csv\n",
      "1365 high-confidence matches (>0.8), success rate: 36.74%\n",
      "Processing Pair: S0253 → GCA_000009205.2\n"
     ]
    },
    {
     "name": "stderr",
     "output_type": "stream",
     "text": [
      "Mapping S0253.csv → GCA_000009205.2.csv: 100%|█| 3715/3715 [02:32<00:00, 24.28it\n"
     ]
    },
    {
     "name": "stdout",
     "output_type": "stream",
     "text": [
      "Results saved: Output/S0253_to_GCA_000009205.2_mapping.csv\n",
      "1579 high-confidence matches (>0.8), success rate: 42.50%\n",
      "Processing Pair: GCA_000085225.1  → GCA_000027105.1 \n"
     ]
    },
    {
     "name": "stderr",
     "output_type": "stream",
     "text": [
      "Mapping GCA_000085225.1 .csv → GCA_000027105.1 .csv: 100%|█| 3488/3488 [02:28<00\n"
     ]
    },
    {
     "name": "stdout",
     "output_type": "stream",
     "text": [
      "Results saved: Output/GCA_000085225.1 _to_GCA_000027105.1 _mapping.csv\n",
      "3460 high-confidence matches (>0.8), success rate: 99.20%\n",
      "Processing Pair: GCA_000085225.1  → GCA_000009205.2\n"
     ]
    },
    {
     "name": "stderr",
     "output_type": "stream",
     "text": [
      "Mapping GCA_000085225.1 .csv → GCA_000009205.2.csv: 100%|█| 3488/3488 [02:34<00:\n"
     ]
    },
    {
     "name": "stdout",
     "output_type": "stream",
     "text": [
      "Results saved: Output/GCA_000085225.1 _to_GCA_000009205.2_mapping.csv\n",
      "2646 high-confidence matches (>0.8), success rate: 75.86%\n",
      "Processing Pair: GCA_000027105.1  → GCA_000009205.2\n"
     ]
    },
    {
     "name": "stderr",
     "output_type": "stream",
     "text": [
      "Mapping GCA_000027105.1 .csv → GCA_000009205.2.csv: 100%|█| 3546/3546 [02:37<00:"
     ]
    },
    {
     "name": "stdout",
     "output_type": "stream",
     "text": [
      "Results saved: Output/GCA_000027105.1 _to_GCA_000009205.2_mapping.csv\n",
      "2660 high-confidence matches (>0.8), success rate: 75.01%\n"
     ]
    },
    {
     "name": "stderr",
     "output_type": "stream",
     "text": [
      "\n"
     ]
    }
   ],
   "source": [
    "input_folder = 'Input'        # Folder with all CSV files\n",
    "output_folder = 'Output'  # Where results will be saved\n",
    "number_of_results(input_folder)\n",
    "map_all_pairs_in_folder(input_folder, output_folder)"
   ]
  },
  {
   "cell_type": "code",
   "execution_count": 15,
   "id": "328d25a6",
   "metadata": {},
   "outputs": [
    {
     "name": "stderr",
     "output_type": "stream",
     "text": [
      "/var/folders/_f/08nngm7j4cgc4y0f0rjqm85m0000gn/T/ipykernel_10953/1123265713.py:88: FutureWarning: Styler.applymap has been deprecated. Use Styler.map instead.\n",
      "  styled_df = df_sorted.style.applymap(color_row_based_on_score, subset=['Match Score'])\n",
      "/var/folders/_f/08nngm7j4cgc4y0f0rjqm85m0000gn/T/ipykernel_10953/1123265713.py:88: FutureWarning: Styler.applymap has been deprecated. Use Styler.map instead.\n",
      "  styled_df = df_sorted.style.applymap(color_row_based_on_score, subset=['Match Score'])\n"
     ]
    },
    {
     "name": "stdout",
     "output_type": "stream",
     "text": [
      "Saved HTML: Output/GCA_000953275.1_to_GCA_000009205.2_mapping.html\n",
      "Saved HTML: Output/S0253_to_GCA_000027105.1 _mapping.html\n"
     ]
    },
    {
     "name": "stderr",
     "output_type": "stream",
     "text": [
      "/var/folders/_f/08nngm7j4cgc4y0f0rjqm85m0000gn/T/ipykernel_10953/1123265713.py:88: FutureWarning: Styler.applymap has been deprecated. Use Styler.map instead.\n",
      "  styled_df = df_sorted.style.applymap(color_row_based_on_score, subset=['Match Score'])\n",
      "/var/folders/_f/08nngm7j4cgc4y0f0rjqm85m0000gn/T/ipykernel_10953/1123265713.py:88: FutureWarning: Styler.applymap has been deprecated. Use Styler.map instead.\n",
      "  styled_df = df_sorted.style.applymap(color_row_based_on_score, subset=['Match Score'])\n"
     ]
    },
    {
     "name": "stdout",
     "output_type": "stream",
     "text": [
      "Saved HTML: Output/GCA_000932055.2_to_GCA_000085225.1 _mapping.html\n",
      "Saved HTML: Output/GCA_000953275.1_to_S0253_mapping.html\n"
     ]
    },
    {
     "name": "stderr",
     "output_type": "stream",
     "text": [
      "/var/folders/_f/08nngm7j4cgc4y0f0rjqm85m0000gn/T/ipykernel_10953/1123265713.py:88: FutureWarning: Styler.applymap has been deprecated. Use Styler.map instead.\n",
      "  styled_df = df_sorted.style.applymap(color_row_based_on_score, subset=['Match Score'])\n",
      "/var/folders/_f/08nngm7j4cgc4y0f0rjqm85m0000gn/T/ipykernel_10953/1123265713.py:88: FutureWarning: Styler.applymap has been deprecated. Use Styler.map instead.\n",
      "  styled_df = df_sorted.style.applymap(color_row_based_on_score, subset=['Match Score'])\n"
     ]
    },
    {
     "name": "stdout",
     "output_type": "stream",
     "text": [
      "Saved HTML: Output/GCA_000932055.2_to_GCA_000953275.1_mapping.html\n",
      "Saved HTML: Output/GCA_000953275.1_to_GCA_000085225.1 _mapping.html\n"
     ]
    },
    {
     "name": "stderr",
     "output_type": "stream",
     "text": [
      "/var/folders/_f/08nngm7j4cgc4y0f0rjqm85m0000gn/T/ipykernel_10953/1123265713.py:88: FutureWarning: Styler.applymap has been deprecated. Use Styler.map instead.\n",
      "  styled_df = df_sorted.style.applymap(color_row_based_on_score, subset=['Match Score'])\n",
      "/var/folders/_f/08nngm7j4cgc4y0f0rjqm85m0000gn/T/ipykernel_10953/1123265713.py:88: FutureWarning: Styler.applymap has been deprecated. Use Styler.map instead.\n",
      "  styled_df = df_sorted.style.applymap(color_row_based_on_score, subset=['Match Score'])\n"
     ]
    },
    {
     "name": "stdout",
     "output_type": "stream",
     "text": [
      "Saved HTML: Output/GCA_000085225.1 _to_GCA_000027105.1 _mapping.html\n",
      "Saved HTML: Output/GCA_000027105.1 _to_GCA_000009205.2_mapping.html\n"
     ]
    },
    {
     "name": "stderr",
     "output_type": "stream",
     "text": [
      "/var/folders/_f/08nngm7j4cgc4y0f0rjqm85m0000gn/T/ipykernel_10953/1123265713.py:88: FutureWarning: Styler.applymap has been deprecated. Use Styler.map instead.\n",
      "  styled_df = df_sorted.style.applymap(color_row_based_on_score, subset=['Match Score'])\n",
      "/var/folders/_f/08nngm7j4cgc4y0f0rjqm85m0000gn/T/ipykernel_10953/1123265713.py:88: FutureWarning: Styler.applymap has been deprecated. Use Styler.map instead.\n",
      "  styled_df = df_sorted.style.applymap(color_row_based_on_score, subset=['Match Score'])\n"
     ]
    },
    {
     "name": "stdout",
     "output_type": "stream",
     "text": [
      "Saved HTML: Output/GCA_000932055.2_to_S0253_mapping.html\n",
      "Saved HTML: Output/S0253_to_GCA_000009205.2_mapping.html\n"
     ]
    },
    {
     "name": "stderr",
     "output_type": "stream",
     "text": [
      "/var/folders/_f/08nngm7j4cgc4y0f0rjqm85m0000gn/T/ipykernel_10953/1123265713.py:88: FutureWarning: Styler.applymap has been deprecated. Use Styler.map instead.\n",
      "  styled_df = df_sorted.style.applymap(color_row_based_on_score, subset=['Match Score'])\n",
      "/var/folders/_f/08nngm7j4cgc4y0f0rjqm85m0000gn/T/ipykernel_10953/1123265713.py:88: FutureWarning: Styler.applymap has been deprecated. Use Styler.map instead.\n",
      "  styled_df = df_sorted.style.applymap(color_row_based_on_score, subset=['Match Score'])\n"
     ]
    },
    {
     "name": "stdout",
     "output_type": "stream",
     "text": [
      "Saved HTML: Output/GCA_000953275.1_to_GCA_000027105.1 _mapping.html\n",
      "Saved HTML: Output/GCA_000085225.1 _to_GCA_000009205.2_mapping.html\n"
     ]
    },
    {
     "name": "stderr",
     "output_type": "stream",
     "text": [
      "/var/folders/_f/08nngm7j4cgc4y0f0rjqm85m0000gn/T/ipykernel_10953/1123265713.py:88: FutureWarning: Styler.applymap has been deprecated. Use Styler.map instead.\n",
      "  styled_df = df_sorted.style.applymap(color_row_based_on_score, subset=['Match Score'])\n"
     ]
    },
    {
     "name": "stdout",
     "output_type": "stream",
     "text": [
      "Saved HTML: Output/GCA_000932055.2_to_GCA_000009205.2_mapping.html\n",
      "Saved HTML: Output/S0253_to_GCA_000085225.1 _mapping.html\n"
     ]
    },
    {
     "name": "stderr",
     "output_type": "stream",
     "text": [
      "/var/folders/_f/08nngm7j4cgc4y0f0rjqm85m0000gn/T/ipykernel_10953/1123265713.py:88: FutureWarning: Styler.applymap has been deprecated. Use Styler.map instead.\n",
      "  styled_df = df_sorted.style.applymap(color_row_based_on_score, subset=['Match Score'])\n",
      "/var/folders/_f/08nngm7j4cgc4y0f0rjqm85m0000gn/T/ipykernel_10953/1123265713.py:88: FutureWarning: Styler.applymap has been deprecated. Use Styler.map instead.\n",
      "  styled_df = df_sorted.style.applymap(color_row_based_on_score, subset=['Match Score'])\n"
     ]
    },
    {
     "name": "stdout",
     "output_type": "stream",
     "text": [
      "Saved HTML: Output/GCA_000932055.2_to_GCA_000027105.1 _mapping.html\n"
     ]
    }
   ],
   "source": [
    "mapping_folder = 'Output'            # Folder with the results .csv files\n",
    "html_output_folder = 'Output'    # Where to save the .html files\n",
    "generate_html_for_all_results(mapping_folder, html_output_folder)"
   ]
  },
  {
   "cell_type": "code",
   "execution_count": null,
   "id": "b8b3d06e",
   "metadata": {},
   "outputs": [],
   "source": []
  }
 ],
 "metadata": {
  "kernelspec": {
   "display_name": "Python 3 (ipykernel)",
   "language": "python",
   "name": "python3"
  },
  "language_info": {
   "codemirror_mode": {
    "name": "ipython",
    "version": 3
   },
   "file_extension": ".py",
   "mimetype": "text/x-python",
   "name": "python",
   "nbconvert_exporter": "python",
   "pygments_lexer": "ipython3",
   "version": "3.12.3"
  }
 },
 "nbformat": 4,
 "nbformat_minor": 5
}
